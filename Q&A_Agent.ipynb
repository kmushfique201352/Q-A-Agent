{
  "cells": [
    {
      "cell_type": "code",
      "execution_count": 1,
      "metadata": {
        "colab": {
          "base_uri": "https://localhost:8080/"
        },
        "id": "_A1wmWfSkf56",
        "outputId": "855466a8-a8cf-4cfb-b3bc-41cfe31c3176"
      },
      "outputs": [
        {
          "name": "stdout",
          "output_type": "stream",
          "text": [
            "Requirement already satisfied: requests in /usr/local/lib/python3.10/dist-packages (2.31.0)\n",
            "Requirement already satisfied: beautifulsoup4 in /usr/local/lib/python3.10/dist-packages (4.12.3)\n",
            "Requirement already satisfied: charset-normalizer<4,>=2 in /usr/local/lib/python3.10/dist-packages (from requests) (3.3.2)\n",
            "Requirement already satisfied: idna<4,>=2.5 in /usr/local/lib/python3.10/dist-packages (from requests) (3.7)\n",
            "Requirement already satisfied: urllib3<3,>=1.21.1 in /usr/local/lib/python3.10/dist-packages (from requests) (2.0.7)\n",
            "Requirement already satisfied: certifi>=2017.4.17 in /usr/local/lib/python3.10/dist-packages (from requests) (2024.6.2)\n",
            "Requirement already satisfied: soupsieve>1.2 in /usr/local/lib/python3.10/dist-packages (from beautifulsoup4) (2.5)\n"
          ]
        }
      ],
      "source": [
        "!pip install requests beautifulsoup4"
      ]
    },
    {
      "cell_type": "code",
      "execution_count": 2,
      "metadata": {
        "id": "UXZL6VJ9kqsl"
      },
      "outputs": [],
      "source": [
        "import requests\n",
        "from bs4 import BeautifulSoup"
      ]
    },
    {
      "cell_type": "code",
      "execution_count": 12,
      "metadata": {
        "colab": {
          "base_uri": "https://localhost:8080/"
        },
        "id": "XylWF-OPk5rE",
        "outputId": "0a3ecaaf-fd4f-40a0-e94c-7cadaca32193"
      },
      "outputs": [
        {
          "name": "stdout",
          "output_type": "stream",
          "text": [
            "Extraction completed.\n"
          ]
        }
      ],
      "source": [
        "url=\"https://en.wikipedia.org/wiki/Bangladesh\"\n",
        "res=requests.get(url)\n",
        "s=BeautifulSoup(res.content,\"html.parser\")\n",
        "\n",
        "p=s.find_all('p')\n",
        "c='\\n'.join([para.get_text() for para in p])\n",
        "\n",
        "with open(\"bangladesh_wikipedia.txt\",\"w\",encoding=\"utf-8\") as file:\n",
        "    file.write(c)\n",
        "\n",
        "print(\"Extraction completed.\")"
      ]
    },
    {
      "cell_type": "code",
      "execution_count": 6,
      "metadata": {
        "colab": {
          "base_uri": "https://localhost:8080/"
        },
        "id": "SEtcy665lULh",
        "outputId": "5bbc8389-9c43-4f04-e3ad-1fd67625c2c6"
      },
      "outputs": [
        {
          "name": "stdout",
          "output_type": "stream",
          "text": [
            "Requirement already satisfied: transformers in /usr/local/lib/python3.10/dist-packages (4.41.2)\n",
            "Requirement already satisfied: filelock in /usr/local/lib/python3.10/dist-packages (from transformers) (3.15.4)\n",
            "Requirement already satisfied: huggingface-hub<1.0,>=0.23.0 in /usr/local/lib/python3.10/dist-packages (from transformers) (0.23.4)\n",
            "Requirement already satisfied: numpy>=1.17 in /usr/local/lib/python3.10/dist-packages (from transformers) (1.25.2)\n",
            "Requirement already satisfied: packaging>=20.0 in /usr/local/lib/python3.10/dist-packages (from transformers) (24.1)\n",
            "Requirement already satisfied: pyyaml>=5.1 in /usr/local/lib/python3.10/dist-packages (from transformers) (6.0.1)\n",
            "Requirement already satisfied: regex!=2019.12.17 in /usr/local/lib/python3.10/dist-packages (from transformers) (2024.5.15)\n",
            "Requirement already satisfied: requests in /usr/local/lib/python3.10/dist-packages (from transformers) (2.31.0)\n",
            "Requirement already satisfied: tokenizers<0.20,>=0.19 in /usr/local/lib/python3.10/dist-packages (from transformers) (0.19.1)\n",
            "Requirement already satisfied: safetensors>=0.4.1 in /usr/local/lib/python3.10/dist-packages (from transformers) (0.4.3)\n",
            "Requirement already satisfied: tqdm>=4.27 in /usr/local/lib/python3.10/dist-packages (from transformers) (4.66.4)\n",
            "Requirement already satisfied: fsspec>=2023.5.0 in /usr/local/lib/python3.10/dist-packages (from huggingface-hub<1.0,>=0.23.0->transformers) (2023.6.0)\n",
            "Requirement already satisfied: typing-extensions>=3.7.4.3 in /usr/local/lib/python3.10/dist-packages (from huggingface-hub<1.0,>=0.23.0->transformers) (4.12.2)\n",
            "Requirement already satisfied: charset-normalizer<4,>=2 in /usr/local/lib/python3.10/dist-packages (from requests->transformers) (3.3.2)\n",
            "Requirement already satisfied: idna<4,>=2.5 in /usr/local/lib/python3.10/dist-packages (from requests->transformers) (3.7)\n",
            "Requirement already satisfied: urllib3<3,>=1.21.1 in /usr/local/lib/python3.10/dist-packages (from requests->transformers) (2.0.7)\n",
            "Requirement already satisfied: certifi>=2017.4.17 in /usr/local/lib/python3.10/dist-packages (from requests->transformers) (2024.6.2)\n"
          ]
        }
      ],
      "source": [
        "!pip install transformers"
      ]
    },
    {
      "cell_type": "code",
      "execution_count": 14,
      "metadata": {
        "colab": {
          "base_uri": "https://localhost:8080/"
        },
        "id": "3UP55xmolVaV",
        "outputId": "c3a8a563-64dc-41be-b7cd-c4dd22ef59f7"
      },
      "outputs": [
        {
          "name": "stderr",
          "output_type": "stream",
          "text": [
            "No model was supplied, defaulted to distilbert/distilbert-base-cased-distilled-squad and revision 626af31 (https://huggingface.co/distilbert/distilbert-base-cased-distilled-squad).\n",
            "Using a pipeline without specifying a model name and revision in production is not recommended.\n"
          ]
        },
        {
          "name": "stdout",
          "output_type": "stream",
          "text": [
            "\n",
            "\n",
            "Question: What is the capital of Bangladesh?\n",
            "Answer: Dhaka\n"
          ]
        }
      ],
      "source": [
        "from transformers import pipeline\n",
        "\n",
        "qa_pipeline=pipeline(\"question-answering\")\n",
        "\n",
        "def answer_question(context,question):\n",
        "    r=qa_pipeline(question=question,context=context)\n",
        "    return r['answer']\n",
        "\n",
        "with open(\"bangladesh_wikipedia.txt\",\"r\",encoding=\"utf-8\") as file:\n",
        "    context=file.read()\n",
        "\n",
        "question=\"What is the capital of Bangladesh?\"\n",
        "answer=answer_question(context,question)\n",
        "print(\"\\n\\n\"f\"Question: {question}\")\n",
        "print(f\"Answer: {answer}\")"
      ]
    },
    {
      "cell_type": "code",
      "execution_count": 15,
      "metadata": {
        "id": "B-gW4GkJoLPB"
      },
      "outputs": [],
      "source": [
        "class AutogenAgent:\n",
        "    def __init__(self,context):\n",
        "        self.context=context\n",
        "        self.qa_pipeline=pipeline(\"question-answering\")\n",
        "\n",
        "    def handle_query(self,query):\n",
        "        return self.qa_pipeline(question=query,context=self.context)['answer']"
      ]
    },
    {
      "cell_type": "code",
      "execution_count": 16,
      "metadata": {
        "colab": {
          "base_uri": "https://localhost:8080/"
        },
        "id": "kfiPuz4voUPM",
        "outputId": "d9584fb0-cb66-4c11-834d-8595251bff3f"
      },
      "outputs": [
        {
          "name": "stderr",
          "output_type": "stream",
          "text": [
            "No model was supplied, defaulted to distilbert/distilbert-base-cased-distilled-squad and revision 626af31 (https://huggingface.co/distilbert/distilbert-base-cased-distilled-squad).\n",
            "Using a pipeline without specifying a model name and revision in production is not recommended.\n"
          ]
        },
        {
          "name": "stdout",
          "output_type": "stream",
          "text": [
            "Query: What is the capital of Bangladesh?\n",
            "Response: Dhaka\n"
          ]
        }
      ],
      "source": [
        "agent=AutogenAgent(context=context)\n",
        "\n",
        "query=\"What is the capital of Bangladesh?\"\n",
        "response=agent.handle_query(query)\n",
        "print(\"\\n\\n\"f\"Query: {query}\")\n",
        "print(f\"Response: {response}\")"
      ]
    },
    {
      "cell_type": "code",
      "execution_count": 18,
      "metadata": {
        "colab": {
          "base_uri": "https://localhost:8080/"
        },
        "id": "45YGKvgxoyEi",
        "outputId": "878ee6ca-0eac-4bd1-cf06-3accf440e3ce"
      },
      "outputs": [
        {
          "name": "stdout",
          "output_type": "stream",
          "text": [
            "Query: What is the capital of Bangladesh?\n",
            "Response: Dhaka\n",
            "\n",
            "Query: What is the population of Bangladesh?\n",
            "Response: 165.1 million\n",
            "\n",
            "Query: Who is the Prime Minister of Bangladesh?\n",
            "Response: Sheikh Hasina\n",
            "\n",
            "Query: What is the main religion in Bangladesh?\n",
            "Response: Islam\n",
            "\n",
            "Query: What are the major industries in Bangladesh?\n",
            "Response: newspapers\n",
            "\n"
          ]
        }
      ],
      "source": [
        "queries=[\n",
        "    \"What is the capital of Bangladesh?\",\n",
        "    \"What is the population of Bangladesh?\",\n",
        "    \"Who is the Prime Minister of Bangladesh?\",\n",
        "    \"What is the main religion in Bangladesh?\",\n",
        "    \"What are the major industries in Bangladesh?\"\n",
        "]\n",
        "\n",
        "for query in queries:\n",
        "    response=agent.handle_query(query)\n",
        "    print(f\"Query: {query}\")\n",
        "    print(f\"Response: {response}\\n\")\n"
      ]
    }
  ],
  "metadata": {
    "colab": {
      "provenance": []
    },
    "kernelspec": {
      "display_name": "Python 3",
      "name": "python3"
    },
    "language_info": {
      "name": "python"
    }
  },
  "nbformat": 4,
  "nbformat_minor": 0
}
